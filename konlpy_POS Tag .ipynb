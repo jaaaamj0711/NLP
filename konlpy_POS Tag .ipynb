{
 "cells": [
  {
   "cell_type": "markdown",
   "metadata": {},
   "source": [
    "# konlpy 형태소 분석기 성능 비교"
   ]
  },
  {
   "cell_type": "code",
   "execution_count": 3,
   "metadata": {},
   "outputs": [],
   "source": [
    "from konlpy.tag import Kkma\n",
    "from konlpy.tag import Komoran\n",
    "from konlpy.tag import Hannanum\n",
    "from konlpy.tag import Okt \n",
    "import re\n",
    "\n",
    "kkma = Kkma() \n",
    "komoran = Komoran() \n",
    "hannanum = Hannanum() \n",
    "okt = Okt()"
   ]
  },
  {
   "cell_type": "markdown",
   "metadata": {},
   "source": [
    "## 형태소 분석 비교"
   ]
  },
  {
   "cell_type": "markdown",
   "metadata": {},
   "source": [
    "**1. 띄어쓰기가 올바르지 않은 문장**"
   ]
  },
  {
   "cell_type": "code",
   "execution_count": 5,
   "metadata": {},
   "outputs": [
    {
     "data": {
      "text/plain": [
       "[('아버지', 'NNG'),\n",
       " ('가방', 'NNG'),\n",
       " ('에', 'JKM'),\n",
       " ('들어가', 'VV'),\n",
       " ('시', 'EPH'),\n",
       " ('ㄴ다', 'EFN')]"
      ]
     },
     "execution_count": 5,
     "metadata": {},
     "output_type": "execute_result"
    }
   ],
   "source": [
    "text = \"아버지가방에들어가신다\"\n",
    "kkma.pos(text)"
   ]
  },
  {
   "cell_type": "code",
   "execution_count": 6,
   "metadata": {},
   "outputs": [
    {
     "data": {
      "text/plain": [
       "[('아버지', 'NNG'),\n",
       " ('가방', 'NNP'),\n",
       " ('에', 'JKB'),\n",
       " ('들어가', 'VV'),\n",
       " ('시', 'EP'),\n",
       " ('ㄴ다', 'EC')]"
      ]
     },
     "execution_count": 6,
     "metadata": {},
     "output_type": "execute_result"
    }
   ],
   "source": [
    "komoran.pos(text)"
   ]
  },
  {
   "cell_type": "code",
   "execution_count": 7,
   "metadata": {},
   "outputs": [
    {
     "data": {
      "text/plain": [
       "[('아버지가방에들어가', 'N'), ('이', 'J'), ('시ㄴ다', 'E')]"
      ]
     },
     "execution_count": 7,
     "metadata": {},
     "output_type": "execute_result"
    }
   ],
   "source": [
    "hannanum.pos(text)"
   ]
  },
  {
   "cell_type": "code",
   "execution_count": 8,
   "metadata": {},
   "outputs": [
    {
     "data": {
      "text/plain": [
       "[('아버지', 'Noun'), ('가방', 'Noun'), ('에', 'Josa'), ('들어가신다', 'Verb')]"
      ]
     },
     "execution_count": 8,
     "metadata": {},
     "output_type": "execute_result"
    }
   ],
   "source": [
    "okt.pos(text) # 형태소 분석 자세하게 할떄 취약하다."
   ]
  },
  {
   "cell_type": "markdown",
   "metadata": {},
   "source": [
    "분석 결과를 보면 kkma와 komoran이 동일하게 형태소를 잘 분리하였습니다. 하지만 Hannanum은 분리를 잘 못하는 것을 알 수 있습니다."
   ]
  },
  {
   "cell_type": "markdown",
   "metadata": {},
   "source": [
    "**2. 오타가 있는 문장**"
   ]
  },
  {
   "cell_type": "code",
   "execution_count": 9,
   "metadata": {
    "scrolled": true
   },
   "outputs": [
    {
     "name": "stdout",
     "output_type": "stream",
     "text": [
      "꼬꼬마 : [('안녕ㅎㅏㅅㅔ', 'UN'), ('여', 'JKI'), ('ㅈㅓ', 'UN'), ('는', 'JX'), ('ㄷ', 'NNG'), ('ㅐ', 'UN'), ('학생', 'NNG'), ('이', 'VCP'), ('ㅂ니다', 'EFN'), ('.', 'SF')]\n",
      "\n",
      "코모란 : [('안녕', 'NNP'), ('하', 'NNP'), ('세', 'NNB'), ('이', 'VCP'), ('어', 'EC'), ('저', 'NP'), ('는', 'JX'), ('대학생', 'NNG'), ('이', 'VCP'), ('ㅂ니다', 'EF'), ('.', 'SF')]\n",
      "\n",
      "한나눔 : [('안녕ㅎㅏㅅㅔ', 'N'), ('이', 'J'), ('어', 'E'), ('ㅈㅓ', 'N'), ('는', 'J'), ('ㄷㅐ학생', 'N'), ('일', 'P'), ('ㅂ니다', 'E'), ('.', 'S')]\n",
      "\n",
      "Okt : [('안녕', 'Noun'), ('ㅎㅏㅅㅔ', 'KoreanParticle'), ('여', 'Noun'), ('ㅈㅓ', 'KoreanParticle'), ('는', 'Verb'), ('ㄷㅐ', 'KoreanParticle'), ('학생', 'Noun'), ('입니다', 'Adjective'), ('.', 'Punctuation')]\n",
      "\n"
     ]
    }
   ],
   "source": [
    "text2 = \"안녕ㅎㅏㅅㅔ여 ㅈㅓ는 ㄷㅐ학생 입니다. \"\n",
    "print(\"꼬꼬마 : %s\\n\" % kkma.pos(text2))\n",
    "print(\"코모란 : %s\\n\" % komoran.pos(text2))\n",
    "print(\"한나눔 : %s\\n\" % hannanum.pos(text2))\n",
    "print(\"Okt : %s\\n\" % okt.pos(text2))"
   ]
  },
  {
   "cell_type": "markdown",
   "metadata": {},
   "source": [
    "결과를 보면 코모란이 오타를 잘 고쳐서 출력한다는 것을 알 수 있습니다. 나머지 꼬꼬마, 한나눔, Okt는 오타를 잘 인식하지 못한다는 결과가 나왔습니다."
   ]
  },
  {
   "cell_type": "markdown",
   "metadata": {},
   "source": [
    "**3. 속도 비교**"
   ]
  },
  {
   "cell_type": "markdown",
   "metadata": {},
   "source": [
    "네이버 기사 중 하나를 복사해온 결과입니다."
   ]
  },
  {
   "cell_type": "code",
   "execution_count": 10,
   "metadata": {},
   "outputs": [],
   "source": [
    "text3 = \"\"\"광운대학교 캠퍼스타운사업단 SNK-VITAMIN센터에서 SW코딩 교육 특강을 실시한다.\n",
    "\n",
    "이번 SW코딩 교육 특강은 비전공자도 배울 수 있는 파이썬 코딩 교육 과정 학습과 스크래치 프로그램을 활용한 기초 소프트웨어 코딩 교육 과정 학습, 관련 자격증과 연계해 실용성을 확대하는 학습 등으로 이루어진다.\n",
    "\n",
    "특히 오프라인 특강과 온라인 특강을 결합한 1기, 온라인 특강으로만 이뤄진 2기로 나누어져 다양한 수강생들의 참여를 기다린다. 1기의 경우 오는 8월 18일부터 8월 31일까지, 2기의 경우 9월 1일부터 9월 14일까지 교육을 진행한다.\n",
    "\n",
    "SW코딩 교육 특강은 서울시와 노원구의 지원을 받아 진행되는 캠퍼스타운 조성사업의 일환으로, 교육비가 무료이며 SW코딩에 관심 있는 예비·초기 창업자, 지역주민, 대학생 등 누구나 신청할 수 있다. 또한 강의 수료 시 관련 자격증 응시를 지원한다.\n",
    "\n",
    "관계자는 \"서울시 캠퍼스타운조성사업으로 진행되는 이번 코딩교육은 지역주민과 대학생 등 누구나 신청할 수 있다. 특히 비전공자도 기초부터 코딩을 배울 수 있다\"면서 \"많은 분들의 참여를 기다린다\"고 밝혔다.\n",
    "\n",
    "한편 SW코딩 특강은 광운대 캠퍼스타운 홈페이지에서 신청할 수 있으며, 1기는 오는 8월 14일까지, 2기는 8월 31일까지 접수하면 된다. 선착순 신청으로 조기 마감 될 수 있으며 자세한 사항은 홈페이지에서 확인 가능하다.\"\"\""
   ]
  },
  {
   "cell_type": "markdown",
   "metadata": {},
   "source": [
    "여기서 %%time은 걸리는 시간을 체크해주는 함수입니다."
   ]
  },
  {
   "cell_type": "code",
   "execution_count": 11,
   "metadata": {},
   "outputs": [
    {
     "name": "stdout",
     "output_type": "stream",
     "text": [
      "[('광운', 'NNG'), ('대학교', 'NNG'), ('캠퍼스', 'NNG'), ('타운', 'NNG'), ('사업단', 'NNG'), ('SNK-VITAMIN', 'OL'), ('센터', 'NNG'), ('에서', 'JKM'), ('SW', 'OL'), ('코딩', 'NNG')]\n",
      "Wall time: 1.9 s\n"
     ]
    }
   ],
   "source": [
    "%%time\n",
    "print(kkma.pos(text3)[:10])"
   ]
  },
  {
   "cell_type": "code",
   "execution_count": 13,
   "metadata": {
    "scrolled": true
   },
   "outputs": [
    {
     "name": "stdout",
     "output_type": "stream",
     "text": [
      "[('광운대학교', 'NNP'), ('캠퍼스', 'NNP'), ('타운', 'NNP'), ('사업단', 'NNG'), ('SNK', 'SL'), ('-', 'SS'), ('VITAMIN', 'SL'), ('센터', 'NNP'), ('에서', 'JKB'), ('SW', 'SL')]\n",
      "Wall time: 33.4 ms\n"
     ]
    }
   ],
   "source": [
    "%%time\n",
    "print(komoran.pos(text3)[:10])"
   ]
  },
  {
   "cell_type": "code",
   "execution_count": 14,
   "metadata": {},
   "outputs": [
    {
     "name": "stdout",
     "output_type": "stream",
     "text": [
      "[('광운대학교', 'N'), ('캠퍼스타운사업단', 'N'), ('SNK', 'F'), ('-', 'S'), ('VITAMIN', 'F'), ('센터', 'N'), ('에서', 'J'), ('SW코딩', 'N'), ('교육', 'N'), ('특강', 'N')]\n",
      "Wall time: 135 ms\n"
     ]
    }
   ],
   "source": [
    "%%time\n",
    "print(hannanum.pos(text3)[:10])"
   ]
  },
  {
   "cell_type": "code",
   "execution_count": 15,
   "metadata": {},
   "outputs": [
    {
     "name": "stdout",
     "output_type": "stream",
     "text": [
      "[('광운대', 'Noun'), ('학교', 'Noun'), ('캠퍼스', 'Noun'), ('타운', 'Noun'), ('사업', 'Noun'), ('단', 'Noun'), ('SNK', 'Alpha'), ('-', 'Punctuation'), ('VITAMIN', 'Alpha'), ('센터', 'Noun')]\n",
      "Wall time: 243 ms\n"
     ]
    }
   ],
   "source": [
    "%%time\n",
    "print(okt.pos(text3)[:10])"
   ]
  },
  {
   "cell_type": "markdown",
   "metadata": {},
   "source": [
    "속도 비교 결과 꼬꼬마가 가장 느리고 코모란이 가장 빠르며 나머지 두개는 비슷한 결과가 나왔습니다. 하지만 입력 데이터에 따라서 차이가 있을수도 있습니다."
   ]
  }
 ],
 "metadata": {
  "kernelspec": {
   "display_name": "Python 3",
   "language": "python",
   "name": "python3"
  },
  "language_info": {
   "codemirror_mode": {
    "name": "ipython",
    "version": 3
   },
   "file_extension": ".py",
   "mimetype": "text/x-python",
   "name": "python",
   "nbconvert_exporter": "python",
   "pygments_lexer": "ipython3",
   "version": "3.6.12"
  },
  "toc": {
   "base_numbering": 1,
   "nav_menu": {},
   "number_sections": true,
   "sideBar": true,
   "skip_h1_title": false,
   "title_cell": "Table of Contents",
   "title_sidebar": "Contents",
   "toc_cell": false,
   "toc_position": {},
   "toc_section_display": true,
   "toc_window_display": false
  },
  "varInspector": {
   "cols": {
    "lenName": 16,
    "lenType": 16,
    "lenVar": 40
   },
   "kernels_config": {
    "python": {
     "delete_cmd_postfix": "",
     "delete_cmd_prefix": "del ",
     "library": "var_list.py",
     "varRefreshCmd": "print(var_dic_list())"
    },
    "r": {
     "delete_cmd_postfix": ") ",
     "delete_cmd_prefix": "rm(",
     "library": "var_list.r",
     "varRefreshCmd": "cat(var_dic_list()) "
    }
   },
   "types_to_exclude": [
    "module",
    "function",
    "builtin_function_or_method",
    "instance",
    "_Feature"
   ],
   "window_display": false
  }
 },
 "nbformat": 4,
 "nbformat_minor": 4
}
